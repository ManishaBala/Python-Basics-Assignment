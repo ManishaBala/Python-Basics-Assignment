{
  "nbformat": 4,
  "nbformat_minor": 0,
  "metadata": {
    "colab": {
      "provenance": []
    },
    "kernelspec": {
      "name": "python3",
      "display_name": "Python 3"
    },
    "language_info": {
      "name": "python"
    }
  },
  "cells": [
    {
      "cell_type": "markdown",
      "source": [
        "#Python Basics Assignment"
      ],
      "metadata": {
        "id": "wY-y8owuQd8B"
      }
    },
    {
      "cell_type": "markdown",
      "source": [
        "###1. Explain the key features of Python that make it a popular choice for programming.\n",
        "\n",
        "-> The key features of python that make it a popular choice for programming are:\n",
        "\n",
        " - It is easy to read and understand. Its code is similar to plain English,\n",
        "\n",
        "  making it beginner-friendly.\n",
        " -It is versatile as it can be used for a wide range of applications,including\n",
        "  web development, machine learning and many more.\n",
        " - It has a lot of libraries. Python includes a vast standard library and thousands of third-party libraries.\n",
        " - It has huge active community.Python has a vast global community.\n",
        "  Help, tutorials, and solutions are easily available online.\n",
        " - Its readability and simplicity.\n",
        " - It has Cross-Platform Compatibility,that a programming language or application can run on multiple operating systems (such as Windows, macOS, and Linux) without needing to change the source code.\n",
        "\n",
        "\n"
      ],
      "metadata": {
        "id": "ZhlXXgxRQ8sx"
      }
    },
    {
      "cell_type": "markdown",
      "source": [
        " ### 2. Describe the role of predefined keywords in Python and provide examples of how they are used in a program.\n",
        "\n",
        " ->Predefined keywords (also known as reserved keywords) are special words that are reserved by the language for specific purposes. These keywords are part of Python's syntax and cannot be used as identifiers such as variable names, function names, or class names.\n",
        " Keywords are case-sensitive and cannot be redefined or overridden within a Python program.\n",
        "\n",
        "Examples of keywords are if, else, while, for, def, class, import, try, except, return, True, False, None, etc that are used in a program.\n"
      ],
      "metadata": {
        "id": "M-3xbFco3pYl"
      }
    },
    {
      "cell_type": "code",
      "source": [
        "#Examples of python keywords"
      ],
      "metadata": {
        "id": "xNiHuBgSKTT5"
      },
      "execution_count": 110,
      "outputs": []
    },
    {
      "cell_type": "code",
      "source": [
        "#Example 1. Keywords used: and, or, not, True, False\n",
        "a = True"
      ],
      "metadata": {
        "id": "4GbdogkyKi5o"
      },
      "execution_count": 111,
      "outputs": []
    },
    {
      "cell_type": "code",
      "source": [
        "b = False"
      ],
      "metadata": {
        "id": "VyreDdWtKjG4"
      },
      "execution_count": 112,
      "outputs": []
    },
    {
      "cell_type": "code",
      "source": [
        "if a and not b :\n",
        "  print(\"condition is True\")"
      ],
      "metadata": {
        "colab": {
          "base_uri": "https://localhost:8080/"
        },
        "id": "wUCF6to4KjRg",
        "outputId": "d33c0d8e-5d9a-4149-edbc-29f343455694"
      },
      "execution_count": 113,
      "outputs": [
        {
          "output_type": "stream",
          "name": "stdout",
          "text": [
            "condition is True\n"
          ]
        }
      ]
    },
    {
      "cell_type": "code",
      "source": [
        "#Example 2. Keywords used: if, elif, else\n"
      ],
      "metadata": {
        "id": "AClItw80LqG4"
      },
      "execution_count": 114,
      "outputs": []
    },
    {
      "cell_type": "code",
      "source": [
        "age = 18\n",
        "if age < 13:\n",
        "    print(\"Child\")\n",
        "elif age < 18:\n",
        "    print(\"Teenager\")\n",
        "else:\n",
        "    print(\"Adult\")"
      ],
      "metadata": {
        "colab": {
          "base_uri": "https://localhost:8080/"
        },
        "id": "uee_qj-wLqQQ",
        "outputId": "5a2ab953-b429-40af-d5f4-4f512ac8f6b7"
      },
      "execution_count": 115,
      "outputs": [
        {
          "output_type": "stream",
          "name": "stdout",
          "text": [
            "Adult\n"
          ]
        }
      ]
    },
    {
      "cell_type": "markdown",
      "source": [
        "###3. Compare and contrast mutable and immutable objects in Python with examples.\n",
        "\n",
        "-> Mutable\tobjects that can be changed after they are created. Mutability directly influences memory behavior, performance, and concurrency in Python. For example lists, dictionaries and  sets. While immutable\tobjects that cannot be changed once they are created. For example tuples,integers and strings.\n",
        "\n",
        "Mutable objects are efficient for tasks that involve frequent changes, such as appending to a list. Immutable objects are safer in situations where you want to ensure data doesnot get modified accidentally (e.g., keys in a dictionary).\n"
      ],
      "metadata": {
        "id": "8xod5hyn4_C2"
      }
    },
    {
      "cell_type": "code",
      "source": [
        "#Example 1: List (mutable)\n",
        "numbers = [1, 2, 3]\n",
        "numbers[0] = 40\n",
        "print(numbers)"
      ],
      "metadata": {
        "colab": {
          "base_uri": "https://localhost:8080/"
        },
        "id": "T_62Pek8Khb4",
        "outputId": "a8afce68-008d-43c9-cc73-0c0233ce3848"
      },
      "execution_count": 116,
      "outputs": [
        {
          "output_type": "stream",
          "name": "stdout",
          "text": [
            "[40, 2, 3]\n"
          ]
        }
      ]
    },
    {
      "cell_type": "code",
      "source": [
        "#Example 2: String (immutable)\n",
        "text = \"hello\"\n",
        "text = text.upper()\n",
        "print(text)"
      ],
      "metadata": {
        "colab": {
          "base_uri": "https://localhost:8080/"
        },
        "id": "j5Yik0HuKhvp",
        "outputId": "6a40265b-9056-460d-fce9-cee781b6476d"
      },
      "execution_count": 117,
      "outputs": [
        {
          "output_type": "stream",
          "name": "stdout",
          "text": [
            "HELLO\n"
          ]
        }
      ]
    },
    {
      "cell_type": "markdown",
      "source": [
        "###4. Discuss the different types of operators in Python and provide examples of how they are used.\n",
        "\n",
        "-> Operators are special symbols or keywords that are used to carry out specific actions on numbers or variables in Python expressions.\n",
        "\n",
        "The different types of operators are:\n",
        "\n",
        "(i) Arithmetic Operators (+, -, *, /)\n",
        "\n",
        "(ii) Comparison Operators (==, !=, <, >)\n",
        "\n",
        "(iii)Logical Operators (and, or, not)\n",
        "\n",
        "(iv)Bitwise Operators (& | ^ ~ << >>)\n",
        "\n",
        "(v)Assignment Operators (=, +=, -=, *=, /=)\n",
        "\n",
        "(vi)Membership Operators (in  , not in )\n",
        "\n",
        "(vii)Identity Operators (is  , is not)"
      ],
      "metadata": {
        "id": "aL_Ty8U483ld"
      }
    },
    {
      "cell_type": "code",
      "source": [
        "#Examples of Arithmetic operators"
      ],
      "metadata": {
        "id": "KrogR7dePJ6p"
      },
      "execution_count": 118,
      "outputs": []
    },
    {
      "cell_type": "code",
      "source": [
        "a = 7\n",
        "b = 5"
      ],
      "metadata": {
        "id": "nV5xnrpfPHPR"
      },
      "execution_count": 119,
      "outputs": []
    },
    {
      "cell_type": "code",
      "source": [
        "7+5 #addition"
      ],
      "metadata": {
        "colab": {
          "base_uri": "https://localhost:8080/"
        },
        "id": "jmXB1LceRhGL",
        "outputId": "1eb3e35c-1800-4613-bbf5-58812164170b"
      },
      "execution_count": 120,
      "outputs": [
        {
          "output_type": "execute_result",
          "data": {
            "text/plain": [
              "12"
            ]
          },
          "metadata": {},
          "execution_count": 120
        }
      ]
    },
    {
      "cell_type": "code",
      "source": [
        "subtract = (a-b)"
      ],
      "metadata": {
        "id": "bg8VAB-JRhBa"
      },
      "execution_count": 121,
      "outputs": []
    },
    {
      "cell_type": "code",
      "source": [
        "subtract"
      ],
      "metadata": {
        "colab": {
          "base_uri": "https://localhost:8080/"
        },
        "id": "rq79Cx2BRg-3",
        "outputId": "b8e9f5e4-e03b-4155-94f0-c3104c81796a"
      },
      "execution_count": 122,
      "outputs": [
        {
          "output_type": "execute_result",
          "data": {
            "text/plain": [
              "2"
            ]
          },
          "metadata": {},
          "execution_count": 122
        }
      ]
    },
    {
      "cell_type": "code",
      "source": [
        "7*5 #multiplication"
      ],
      "metadata": {
        "colab": {
          "base_uri": "https://localhost:8080/"
        },
        "id": "fg5zdKCuRg8R",
        "outputId": "c3c0a0e5-948b-458a-9797-597d4dbe8c09"
      },
      "execution_count": 123,
      "outputs": [
        {
          "output_type": "execute_result",
          "data": {
            "text/plain": [
              "35"
            ]
          },
          "metadata": {},
          "execution_count": 123
        }
      ]
    },
    {
      "cell_type": "code",
      "source": [
        "7/5 #division"
      ],
      "metadata": {
        "colab": {
          "base_uri": "https://localhost:8080/"
        },
        "id": "Lrs7ktI3Rg4n",
        "outputId": "aaf18f1f-2e5a-44cb-9d4d-ec4de181181a"
      },
      "execution_count": 124,
      "outputs": [
        {
          "output_type": "execute_result",
          "data": {
            "text/plain": [
              "1.4"
            ]
          },
          "metadata": {},
          "execution_count": 124
        }
      ]
    },
    {
      "cell_type": "code",
      "source": [
        "#Example of Comparison Operators\n",
        "2==2"
      ],
      "metadata": {
        "colab": {
          "base_uri": "https://localhost:8080/"
        },
        "id": "_1vTaJALRg1v",
        "outputId": "16d7fada-39d8-4c78-e879-05d53cee12b3"
      },
      "execution_count": 125,
      "outputs": [
        {
          "output_type": "execute_result",
          "data": {
            "text/plain": [
              "True"
            ]
          },
          "metadata": {},
          "execution_count": 125
        }
      ]
    },
    {
      "cell_type": "code",
      "source": [
        "2!=2"
      ],
      "metadata": {
        "colab": {
          "base_uri": "https://localhost:8080/"
        },
        "id": "kgLYhymMRgwh",
        "outputId": "8771c8fb-2722-4cde-a14d-6787bfe1f8c7"
      },
      "execution_count": 126,
      "outputs": [
        {
          "output_type": "execute_result",
          "data": {
            "text/plain": [
              "False"
            ]
          },
          "metadata": {},
          "execution_count": 126
        }
      ]
    },
    {
      "cell_type": "code",
      "source": [
        "2!=3"
      ],
      "metadata": {
        "colab": {
          "base_uri": "https://localhost:8080/"
        },
        "id": "NmuL68leRgtX",
        "outputId": "504f609a-8a4b-4152-cb71-26a3440bf41c"
      },
      "execution_count": 127,
      "outputs": [
        {
          "output_type": "execute_result",
          "data": {
            "text/plain": [
              "True"
            ]
          },
          "metadata": {},
          "execution_count": 127
        }
      ]
    },
    {
      "cell_type": "code",
      "source": [
        "2 == 2.1"
      ],
      "metadata": {
        "colab": {
          "base_uri": "https://localhost:8080/"
        },
        "id": "WQaUSnx2RgoI",
        "outputId": "e8ce9b89-35c6-4380-8429-08b9d2cec371"
      },
      "execution_count": 128,
      "outputs": [
        {
          "output_type": "execute_result",
          "data": {
            "text/plain": [
              "False"
            ]
          },
          "metadata": {},
          "execution_count": 128
        }
      ]
    },
    {
      "cell_type": "code",
      "source": [
        "#Example of Logical Operators\n",
        "#and\n",
        "#or\n",
        "True and True"
      ],
      "metadata": {
        "colab": {
          "base_uri": "https://localhost:8080/"
        },
        "id": "8UGV1AuvRgji",
        "outputId": "9e620e21-2983-4b20-f73a-e8d4734623c3"
      },
      "execution_count": 129,
      "outputs": [
        {
          "output_type": "execute_result",
          "data": {
            "text/plain": [
              "True"
            ]
          },
          "metadata": {},
          "execution_count": 129
        }
      ]
    },
    {
      "cell_type": "code",
      "source": [
        "True or False"
      ],
      "metadata": {
        "colab": {
          "base_uri": "https://localhost:8080/"
        },
        "id": "tPEw5fERRgfg",
        "outputId": "bad55d62-e5be-42ba-ee1a-b0f2ba4880f4"
      },
      "execution_count": 130,
      "outputs": [
        {
          "output_type": "execute_result",
          "data": {
            "text/plain": [
              "True"
            ]
          },
          "metadata": {},
          "execution_count": 130
        }
      ]
    },
    {
      "cell_type": "code",
      "source": [
        "False or False"
      ],
      "metadata": {
        "colab": {
          "base_uri": "https://localhost:8080/"
        },
        "id": "jvQXfGsZRgbu",
        "outputId": "6e990fc0-15b6-47f6-f1c1-f890292046e7"
      },
      "execution_count": 131,
      "outputs": [
        {
          "output_type": "execute_result",
          "data": {
            "text/plain": [
              "False"
            ]
          },
          "metadata": {},
          "execution_count": 131
        }
      ]
    },
    {
      "cell_type": "code",
      "source": [
        "#Example of Assigenment Operators\n",
        "a=18\n",
        "b=15\n"
      ],
      "metadata": {
        "id": "9_b1W6MyRgYX"
      },
      "execution_count": 132,
      "outputs": []
    },
    {
      "cell_type": "code",
      "source": [
        "a"
      ],
      "metadata": {
        "colab": {
          "base_uri": "https://localhost:8080/"
        },
        "id": "LITiAAbxRgV-",
        "outputId": "8641e059-3e5d-422a-a823-c567a77f69e9"
      },
      "execution_count": 133,
      "outputs": [
        {
          "output_type": "execute_result",
          "data": {
            "text/plain": [
              "18"
            ]
          },
          "metadata": {},
          "execution_count": 133
        }
      ]
    },
    {
      "cell_type": "code",
      "source": [
        "a + 6"
      ],
      "metadata": {
        "colab": {
          "base_uri": "https://localhost:8080/"
        },
        "id": "PRwPC3BnRgQv",
        "outputId": "358f05ed-21ce-4d53-92da-50c2b9aad7c1"
      },
      "execution_count": 134,
      "outputs": [
        {
          "output_type": "execute_result",
          "data": {
            "text/plain": [
              "24"
            ]
          },
          "metadata": {},
          "execution_count": 134
        }
      ]
    },
    {
      "cell_type": "code",
      "source": [
        "b+5"
      ],
      "metadata": {
        "colab": {
          "base_uri": "https://localhost:8080/"
        },
        "id": "_uRfquEkRgOI",
        "outputId": "b8c2f27f-1d3c-4198-988f-c243dce531ed"
      },
      "execution_count": 135,
      "outputs": [
        {
          "output_type": "execute_result",
          "data": {
            "text/plain": [
              "20"
            ]
          },
          "metadata": {},
          "execution_count": 135
        }
      ]
    },
    {
      "cell_type": "code",
      "source": [
        "b=8\n",
        "b+=10\n",
        "b"
      ],
      "metadata": {
        "colab": {
          "base_uri": "https://localhost:8080/"
        },
        "id": "8Mj9zVDQRgLm",
        "outputId": "1082c3a2-6765-4dfc-8bb5-cd733c322c52"
      },
      "execution_count": 136,
      "outputs": [
        {
          "output_type": "execute_result",
          "data": {
            "text/plain": [
              "18"
            ]
          },
          "metadata": {},
          "execution_count": 136
        }
      ]
    },
    {
      "cell_type": "code",
      "source": [
        "b=5\n",
        "b*=3\n",
        "b"
      ],
      "metadata": {
        "colab": {
          "base_uri": "https://localhost:8080/"
        },
        "id": "8LclKqLkRfsP",
        "outputId": "1af3a175-782b-40d1-d194-a32595195028"
      },
      "execution_count": 137,
      "outputs": [
        {
          "output_type": "execute_result",
          "data": {
            "text/plain": [
              "15"
            ]
          },
          "metadata": {},
          "execution_count": 137
        }
      ]
    },
    {
      "cell_type": "code",
      "source": [
        "b*=2\n",
        "b"
      ],
      "metadata": {
        "colab": {
          "base_uri": "https://localhost:8080/"
        },
        "id": "0h3iSJSzXAqG",
        "outputId": "aa68a50b-093b-4dc1-acf5-190e38a0f1d2"
      },
      "execution_count": 138,
      "outputs": [
        {
          "output_type": "execute_result",
          "data": {
            "text/plain": [
              "30"
            ]
          },
          "metadata": {},
          "execution_count": 138
        }
      ]
    },
    {
      "cell_type": "code",
      "source": [
        "#Example of membership Operators\n",
        "a=\"apple\"\n",
        "\"e\" in a"
      ],
      "metadata": {
        "colab": {
          "base_uri": "https://localhost:8080/"
        },
        "id": "hn_XYJ80XAmL",
        "outputId": "ec94fabb-73d4-4fab-9d2f-93b146516aac"
      },
      "execution_count": 139,
      "outputs": [
        {
          "output_type": "execute_result",
          "data": {
            "text/plain": [
              "True"
            ]
          },
          "metadata": {},
          "execution_count": 139
        }
      ]
    },
    {
      "cell_type": "code",
      "source": [
        "\"b\" not in a"
      ],
      "metadata": {
        "colab": {
          "base_uri": "https://localhost:8080/"
        },
        "id": "KJHVVRKtXAix",
        "outputId": "4cbf5618-2628-4b83-b4bd-94de0dff9f0a"
      },
      "execution_count": 140,
      "outputs": [
        {
          "output_type": "execute_result",
          "data": {
            "text/plain": [
              "True"
            ]
          },
          "metadata": {},
          "execution_count": 140
        }
      ]
    },
    {
      "cell_type": "code",
      "source": [
        "b = \"manisha\"\n",
        "\"i\" not in b"
      ],
      "metadata": {
        "colab": {
          "base_uri": "https://localhost:8080/"
        },
        "id": "6ag1cW3bXAf6",
        "outputId": "7bd14089-2e11-48a9-b36d-56c3a965cb29"
      },
      "execution_count": 141,
      "outputs": [
        {
          "output_type": "execute_result",
          "data": {
            "text/plain": [
              "False"
            ]
          },
          "metadata": {},
          "execution_count": 141
        }
      ]
    },
    {
      "cell_type": "code",
      "source": [
        "#Example of Identity Operators\n",
        "a=10\n",
        "b=7\n",
        "a is b"
      ],
      "metadata": {
        "colab": {
          "base_uri": "https://localhost:8080/"
        },
        "id": "Ch0Q1726XAcM",
        "outputId": "c26a6fec-6781-413b-fd88-10d4c8a279ba"
      },
      "execution_count": 142,
      "outputs": [
        {
          "output_type": "execute_result",
          "data": {
            "text/plain": [
              "False"
            ]
          },
          "metadata": {},
          "execution_count": 142
        }
      ]
    },
    {
      "cell_type": "code",
      "source": [
        "a is not b"
      ],
      "metadata": {
        "colab": {
          "base_uri": "https://localhost:8080/"
        },
        "id": "VZOFh0LGXAZo",
        "outputId": "1e5a9a33-8ed3-4a1a-b045-304b5b114b47"
      },
      "execution_count": 143,
      "outputs": [
        {
          "output_type": "execute_result",
          "data": {
            "text/plain": [
              "True"
            ]
          },
          "metadata": {},
          "execution_count": 143
        }
      ]
    },
    {
      "cell_type": "code",
      "source": [
        "#Example of bitwise Operators\n",
        "10 & 10\n"
      ],
      "metadata": {
        "colab": {
          "base_uri": "https://localhost:8080/"
        },
        "id": "LZIU4TbJXAW5",
        "outputId": "ca526e0f-b8c2-4152-acbf-93dac3737d37"
      },
      "execution_count": 144,
      "outputs": [
        {
          "output_type": "execute_result",
          "data": {
            "text/plain": [
              "10"
            ]
          },
          "metadata": {},
          "execution_count": 144
        }
      ]
    },
    {
      "cell_type": "code",
      "source": [
        "18 & 3"
      ],
      "metadata": {
        "colab": {
          "base_uri": "https://localhost:8080/"
        },
        "id": "sKhZB6TpXAUK",
        "outputId": "2ca4050a-6c98-4369-9997-f71b2688b5a0"
      },
      "execution_count": 145,
      "outputs": [
        {
          "output_type": "execute_result",
          "data": {
            "text/plain": [
              "2"
            ]
          },
          "metadata": {},
          "execution_count": 145
        }
      ]
    },
    {
      "cell_type": "code",
      "source": [
        "3|5"
      ],
      "metadata": {
        "colab": {
          "base_uri": "https://localhost:8080/"
        },
        "id": "LmGpRl2vXARy",
        "outputId": "5106ed8f-f8d2-4808-c836-4e480edc72c9"
      },
      "execution_count": 146,
      "outputs": [
        {
          "output_type": "execute_result",
          "data": {
            "text/plain": [
              "7"
            ]
          },
          "metadata": {},
          "execution_count": 146
        }
      ]
    },
    {
      "cell_type": "markdown",
      "source": [
        "### 5.Explain the concept of type casting in Python with examples."
      ],
      "metadata": {
        "id": "s2mZevJQb5P-"
      }
    },
    {
      "cell_type": "markdown",
      "source": [
        "->Type casting refers to the process of converting one data type into another. In Python, this is also known as type conversion.\n",
        "\n",
        "There are two types of type casting:\n",
        "\n",
        "- Implicit Type Casting\n",
        "\n",
        "- Explicit Type Casting\n",
        "\n",
        "Python provides built-in functions for type casting, such as int(), float(), str(), list(), tuple(), dict(), etc.\n",
        "Type casting is often necessary for performing arithmetic operations, data manipulation, and input/output operations in Python programs."
      ],
      "metadata": {
        "id": "PUa9aRaDcHj_"
      }
    },
    {
      "cell_type": "code",
      "source": [
        "#Example 1. Example of Implicit Type Casting\n",
        "a = 5\n",
        "b = 2.0\n",
        "result = a + b\n",
        "print(result)"
      ],
      "metadata": {
        "colab": {
          "base_uri": "https://localhost:8080/"
        },
        "id": "Y3BdBCAMdFKm",
        "outputId": "7bf6c34a-dd6f-44da-f268-c8f2f987aa1d"
      },
      "execution_count": 147,
      "outputs": [
        {
          "output_type": "stream",
          "name": "stdout",
          "text": [
            "7.0\n"
          ]
        }
      ]
    },
    {
      "cell_type": "code",
      "source": [
        "print(type(result))"
      ],
      "metadata": {
        "colab": {
          "base_uri": "https://localhost:8080/"
        },
        "id": "mCiD5aHtdmwF",
        "outputId": "e7197e10-1be4-4cb8-ecf7-0e1479f19aaa"
      },
      "execution_count": 148,
      "outputs": [
        {
          "output_type": "stream",
          "name": "stdout",
          "text": [
            "<class 'float'>\n"
          ]
        }
      ]
    },
    {
      "cell_type": "code",
      "source": [
        "#Example 2.\n",
        "a=\"2\"\n",
        "print(type(a))\n",
        "print(type(int(a)))"
      ],
      "metadata": {
        "colab": {
          "base_uri": "https://localhost:8080/"
        },
        "id": "wjvHMgrHdmqm",
        "outputId": "22c02034-45e7-47ac-dbb5-ad4f0b9fc02a"
      },
      "execution_count": 149,
      "outputs": [
        {
          "output_type": "stream",
          "name": "stdout",
          "text": [
            "<class 'str'>\n",
            "<class 'int'>\n"
          ]
        }
      ]
    },
    {
      "cell_type": "code",
      "source": [
        "#Example 3. float to integer (Example of Explicit Type Casting)\n",
        "x = 9.8\n",
        "y = int(x)\n",
        "print(y)"
      ],
      "metadata": {
        "colab": {
          "base_uri": "https://localhost:8080/"
        },
        "id": "sfLfUn7LuYaW",
        "outputId": "8db9befc-73c5-4d2d-d5ef-aa29efbca4c3"
      },
      "execution_count": 206,
      "outputs": [
        {
          "output_type": "stream",
          "name": "stdout",
          "text": [
            "9\n"
          ]
        }
      ]
    },
    {
      "cell_type": "code",
      "source": [
        "type(y)"
      ],
      "metadata": {
        "colab": {
          "base_uri": "https://localhost:8080/"
        },
        "id": "g1YDvaHhuYRt",
        "outputId": "9c36d210-d9f7-42eb-d9b5-79093f2e33d0"
      },
      "execution_count": 207,
      "outputs": [
        {
          "output_type": "execute_result",
          "data": {
            "text/plain": [
              "int"
            ]
          },
          "metadata": {},
          "execution_count": 207
        }
      ]
    },
    {
      "cell_type": "code",
      "source": [
        "a=\" manisha \"\n",
        "b=\" bala \"\n",
        "a+b #concatenation of string"
      ],
      "metadata": {
        "colab": {
          "base_uri": "https://localhost:8080/",
          "height": 35
        },
        "id": "6OrEuCzjurms",
        "outputId": "44f6ea4c-8758-4406-d6a3-abec48ad9e51"
      },
      "execution_count": 210,
      "outputs": [
        {
          "output_type": "execute_result",
          "data": {
            "text/plain": [
              "' manisha  bala '"
            ],
            "application/vnd.google.colaboratory.intrinsic+json": {
              "type": "string"
            }
          },
          "metadata": {},
          "execution_count": 210
        }
      ]
    },
    {
      "cell_type": "markdown",
      "source": [
        "###6.How do conditional statements work in Python? Illustrate with examples.\n",
        "\n",
        "-> Conditionals in Python are used to execute code based on the evaluation of\n",
        " one or more conditions.\n",
        "\n",
        " Python supports conditional statements such as if, elif (else if), and else to control the flow of execution.\n",
        " Conditionals can be nested to handle multiple conditions and control different branches of execution based on the outcome of logical expressions."
      ],
      "metadata": {
        "id": "T_tmValUb9gH"
      }
    },
    {
      "cell_type": "code",
      "source": [
        "#Conditional statement\n",
        "#if\n",
        "#if else\n",
        "#if elif(elseif) else\n",
        "#nested if else"
      ],
      "metadata": {
        "id": "JbQCx2PjwoIz"
      },
      "execution_count": null,
      "outputs": []
    },
    {
      "cell_type": "code",
      "source": [
        "#Example 1. if statement\n",
        "\n",
        "age = 13\n",
        "if age < 18:\n",
        "    print(\"You are minority.\")"
      ],
      "metadata": {
        "colab": {
          "base_uri": "https://localhost:8080/"
        },
        "id": "EQce8L_OwpGk",
        "outputId": "52564eb1-54a1-4d4f-d343-430ad5c35139"
      },
      "execution_count": 233,
      "outputs": [
        {
          "output_type": "stream",
          "name": "stdout",
          "text": [
            "You are minority.\n"
          ]
        }
      ]
    },
    {
      "cell_type": "code",
      "source": [
        "#Example 2. if-else Statement\n",
        "\n",
        "marks = 90\n",
        "if marks >= 50:\n",
        "    print(\"You passed.\")\n",
        "else:\n",
        "    print(\"You failed.\")"
      ],
      "metadata": {
        "colab": {
          "base_uri": "https://localhost:8080/"
        },
        "id": "e-K3me1GwpD3",
        "outputId": "6c8c3168-0d4f-4c99-e36e-6e021f6340f4"
      },
      "execution_count": 227,
      "outputs": [
        {
          "output_type": "stream",
          "name": "stdout",
          "text": [
            "You passed.\n"
          ]
        }
      ]
    },
    {
      "cell_type": "code",
      "source": [
        "#Example3. if-elif-else Statement\n",
        "\n",
        "score = 55\n",
        "\n",
        "if score >= 90:\n",
        "    print(\"Grade A\")\n",
        "elif score >= 75:\n",
        "    print(\"Grade B\")\n",
        "elif score >= 60:\n",
        "    print(\"Grade C\")\n",
        "else:\n",
        "    print(\"Grade F\")\n",
        "\n"
      ],
      "metadata": {
        "colab": {
          "base_uri": "https://localhost:8080/"
        },
        "id": "ZusTasjnwpBE",
        "outputId": "16544001-4075-4fb6-d7e9-44d0cdcb97af"
      },
      "execution_count": 225,
      "outputs": [
        {
          "output_type": "stream",
          "name": "stdout",
          "text": [
            "Grade F\n"
          ]
        }
      ]
    },
    {
      "cell_type": "code",
      "source": [
        "#Example Nested if Statement\n",
        "x = 9\n",
        "y = 5\n",
        "\n",
        "if x > 0:\n",
        "    if y > 0:\n",
        "        print(\"Both numbers are positive.\")"
      ],
      "metadata": {
        "colab": {
          "base_uri": "https://localhost:8080/"
        },
        "id": "p6GT0CDm0Zor",
        "outputId": "cc9677e9-8e82-4993-ec30-de60fcf78a51"
      },
      "execution_count": 231,
      "outputs": [
        {
          "output_type": "stream",
          "name": "stdout",
          "text": [
            "Both numbers are positive.\n"
          ]
        }
      ]
    },
    {
      "cell_type": "markdown",
      "source": [
        "###7. Describe the different types of loops in Python and their use cases with examples.\n",
        "\n",
        "-> In Python, loops are employed to repeat a sequence of actions or code until a specific condition is fulfilled.\n",
        "\n",
        "Python offers two primary types of loops:\n",
        "- for loops\n",
        "- while loops.\n",
        "\n",
        "“for” loops are used for iterating over a sequence of elements, while “while” loops are used for executing code until a specified condition becomes false or repeatedly executed a block of code until a condition is met."
      ],
      "metadata": {
        "id": "E0FmTQF2X6r5"
      }
    },
    {
      "cell_type": "code",
      "source": [
        "#Example of while loop\n",
        "\n",
        "n = 10\n",
        "i = 1\n",
        "while i <= n:\n",
        "  print(i)\n",
        "  i=i+1"
      ],
      "metadata": {
        "colab": {
          "base_uri": "https://localhost:8080/"
        },
        "id": "JbVa1LgR2Nns",
        "outputId": "d0854608-30f8-42e8-f596-feb21e37ba91"
      },
      "execution_count": 241,
      "outputs": [
        {
          "output_type": "stream",
          "name": "stdout",
          "text": [
            "1\n",
            "2\n",
            "3\n",
            "4\n",
            "5\n",
            "6\n",
            "7\n",
            "8\n",
            "9\n",
            "10\n"
          ]
        }
      ]
    },
    {
      "cell_type": "code",
      "source": [
        "# Example for for loop\n",
        "\n",
        "for i in \"manisha\":\n",
        "  print(i)"
      ],
      "metadata": {
        "colab": {
          "base_uri": "https://localhost:8080/"
        },
        "id": "9VMrzX-T2OHm",
        "outputId": "c4d6d259-1a25-450c-d071-7a8327d7402c"
      },
      "execution_count": 246,
      "outputs": [
        {
          "output_type": "stream",
          "name": "stdout",
          "text": [
            "m\n",
            "a\n",
            "n\n",
            "i\n",
            "s\n",
            "h\n",
            "a\n"
          ]
        }
      ]
    },
    {
      "cell_type": "code",
      "source": [
        "# print a right triangle with * using for loop\n",
        "for i in range(4):\n",
        "    for j in range (i+1):\n",
        "          print(\"*\", end = \" \")\n",
        "    print()"
      ],
      "metadata": {
        "colab": {
          "base_uri": "https://localhost:8080/"
        },
        "id": "8WVBvpV82N_D",
        "outputId": "479345f5-c83a-4c77-cb42-d023b0d163d7"
      },
      "execution_count": 255,
      "outputs": [
        {
          "output_type": "stream",
          "name": "stdout",
          "text": [
            "* \n",
            "* * \n",
            "* * * \n",
            "* * * * \n"
          ]
        }
      ]
    }
  ]
}